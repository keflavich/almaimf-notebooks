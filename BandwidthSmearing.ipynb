{
 "cells": [
  {
   "cell_type": "markdown",
   "metadata": {},
   "source": [
    "# Bandwidth Smearing calculation"
   ]
  },
  {
   "cell_type": "markdown",
   "metadata": {},
   "source": [
    "Based on https://safe.nrao.edu/wiki/pub/Main/RadioTutorial/BandwidthSmearing.pdf\n"
   ]
  },
  {
   "cell_type": "code",
   "execution_count": 8,
   "metadata": {},
   "outputs": [],
   "source": [
    "from astropy import units as u\n",
    "import numpy as np"
   ]
  },
  {
   "cell_type": "code",
   "execution_count": 9,
   "metadata": {},
   "outputs": [
    {
     "name": "stdout",
     "output_type": "stream",
     "text": [
      "Max baseline 936.9186858137996 m\n"
     ]
    }
   ],
   "source": [
    "best_resolution = 0.3*u.arcsec\n",
    "frequency = 220*u.GHz\n",
    "max_baseline = (frequency.to(u.m, u.spectral()) / best_resolution).to(u.m, u.dimensionless_angles())\n",
    "print(f\"Max baseline {max_baseline}\")"
   ]
  },
  {
   "cell_type": "code",
   "execution_count": 10,
   "metadata": {},
   "outputs": [],
   "source": [
    "maxsmearing = 0.99 # fractional smearing allowed"
   ]
  },
  {
   "cell_type": "markdown",
   "metadata": {},
   "source": [
    "$$R_{\\Delta \\nu} = \\frac{1}{\\sqrt{1+\\beta^2_{max}}}$$\n",
    "$$\\beta_{max} = \\left[ \\left(\\frac{1}{R_{\\Delta \\nu}}\\right)^2-1 \\right]^{1/2}$$"
   ]
  },
  {
   "cell_type": "code",
   "execution_count": 11,
   "metadata": {},
   "outputs": [
    {
     "name": "stdout",
     "output_type": "stream",
     "text": [
      "Beta_max = 0.1424922826228883\n"
     ]
    }
   ],
   "source": [
    "betamax = ((1/maxsmearing)**2 - 1)**0.5\n",
    "print(f\"Beta_max = {betamax}\")"
   ]
  },
  {
   "cell_type": "markdown",
   "metadata": {},
   "source": [
    "$$\\beta_{max} = \\frac{\\Delta \\nu}{\\nu} \\frac{B_{max}}{2\\sqrt{\\ln 2} D} = \\left[ \\left(\\frac{1}{R_{\\Delta \\nu}}\\right)^2-1 \\right]^{1/2}$$"
   ]
  },
  {
   "cell_type": "markdown",
   "metadata": {},
   "source": [
    "$$\\Delta \\nu = \\frac{2 \\sqrt{\\ln 2} D \\nu}{B_{max}} \\left[ \\left(\\frac{1}{R_{\\Delta \\nu}}\\right)^2-1 \\right]^{1/2}$$"
   ]
  },
  {
   "cell_type": "code",
   "execution_count": 12,
   "metadata": {},
   "outputs": [
    {
     "name": "stdout",
     "output_type": "stream",
     "text": [
      "Max frequency width = 0.6685533912293246 GHz\n"
     ]
    }
   ],
   "source": [
    "dish_diameter = 12 * u.m\n",
    "deltanu = 2*np.sqrt(np.log(2)) * dish_diameter * frequency / max_baseline * betamax\n",
    "print(f\"Max frequency width = {deltanu}\")"
   ]
  },
  {
   "cell_type": "code",
   "execution_count": null,
   "metadata": {},
   "outputs": [],
   "source": []
  },
  {
   "cell_type": "markdown",
   "metadata": {},
   "source": [
    "Note that 0.67 GHz is greater than the bandwidth of our spectral windows except the continuum band, which is 3x larger."
   ]
  },
  {
   "cell_type": "code",
   "execution_count": 13,
   "metadata": {},
   "outputs": [
    {
     "name": "stdout",
     "output_type": "stream",
     "text": [
      "Bandwidth smearing from treating continuum window as 1 channel = 0.8622897510607388\n"
     ]
    }
   ],
   "source": [
    "betamax_biggest = 1.875*u.GHz/frequency * max_baseline / (2*np.sqrt(np.log(2))*dish_diameter)\n",
    "smearing_in_biggest_window = 1/(1+betamax_biggest**2)\n",
    "print(f\"Bandwidth smearing from treating continuum window as 1 channel = {smearing_in_biggest_window}\")"
   ]
  },
  {
   "cell_type": "markdown",
   "metadata": {},
   "source": [
    "## Band 3\n",
    "Same thing, now for Band 3:"
   ]
  },
  {
   "cell_type": "code",
   "execution_count": 14,
   "metadata": {},
   "outputs": [
    {
     "name": "stdout",
     "output_type": "stream",
     "text": [
      "Max frequency width = 0.3038879051042384 GHz\n"
     ]
    }
   ],
   "source": [
    "frequency = 100*u.GHz\n",
    "deltanu = 2*np.sqrt(np.log(2)) * dish_diameter * frequency / max_baseline * betamax\n",
    "print(f\"Max frequency width = {deltanu}\")"
   ]
  },
  {
   "cell_type": "code",
   "execution_count": 15,
   "metadata": {},
   "outputs": [
    {
     "name": "stdout",
     "output_type": "stream",
     "text": [
      "Bandwidth smearing from treating continuum window as 1 channel = 0.8380539415096752\n"
     ]
    }
   ],
   "source": [
    "betamax_biggest = 0.9375*u.GHz/frequency * max_baseline / (2*np.sqrt(np.log(2))*dish_diameter)\n",
    "smearing_in_biggest_window = 1/(1+betamax_biggest**2)\n",
    "print(f\"Bandwidth smearing from treating continuum window as 1 channel = {smearing_in_biggest_window}\")"
   ]
  },
  {
   "cell_type": "code",
   "execution_count": null,
   "metadata": {},
   "outputs": [],
   "source": []
  }
 ],
 "metadata": {
  "kernelspec": {
   "display_name": "Python 3",
   "language": "python",
   "name": "python3"
  },
  "language_info": {
   "codemirror_mode": {
    "name": "ipython",
    "version": 3
   },
   "file_extension": ".py",
   "mimetype": "text/x-python",
   "name": "python",
   "nbconvert_exporter": "python",
   "pygments_lexer": "ipython3",
   "version": "3.6.0"
  }
 },
 "nbformat": 4,
 "nbformat_minor": 2
}
