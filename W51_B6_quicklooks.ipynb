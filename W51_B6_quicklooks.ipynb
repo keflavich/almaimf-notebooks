{
 "cells": [
  {
   "cell_type": "markdown",
   "metadata": {},
   "source": [
    "# Quicklooks of W51-E B6 images\n",
    "\n",
    "This notebook contains images of each of the images of W51-E B6 so far produced.  This notebook is generated and should not be edited."
   ]
  },
  {
   "cell_type": "code",
   "execution_count": null,
   "metadata": {},
   "outputs": [],
   "source": [
    "%matplotlib inline\n",
    "import numpy as np\n",
    "from astropy import units as u\n",
    "import pylab as pl\n",
    "pl.rcParams['figure.figsize'] = (16,8)\n",
    "import sys\n",
    "import glob\n",
    "sys.path.append('/lustre/naasc/users/aginsbur/repos/reduction/reduction/')\n",
    "import imp, diagnostic_images\n",
    "imp.reload(diagnostic_images)\n",
    "from diagnostic_images import load_images, show\n",
    "from spectral_cube import SpectralCube\n",
    "import spectral_cube\n",
    "import os\n",
    "os.chdir(\"/lustre/naasc/projects/ALMA_IMF/2017.1.01355.L/imaging_results\")"
   ]
  },
  {
   "cell_type": "code",
   "execution_count": null,
   "metadata": {},
   "outputs": [],
   "source": [
    "pl.rcParams['figure.figsize'] = (16,8)"
   ]
  },
  {
   "cell_type": "code",
   "execution_count": null,
   "metadata": {},
   "outputs": [],
   "source": [
    "import warnings; warnings.filterwarnings(action='ignore', category=spectral_cube.utils.StokesWarning)"
   ]
  },
  {
   "cell_type": "code",
   "execution_count": null,
   "metadata": {},
   "outputs": [],
   "source": [
    "import warnings; warnings.filterwarnings(action='ignore', category=spectral_cube.utils.BeamWarning)"
   ]
  },
  {
   "cell_type": "code",
   "execution_count": null,
   "metadata": {},
   "outputs": [],
   "source": [
    "imgs, cubes = load_images(\"W51-E_B6_uid___A001_X1296_X215_continuum_merged_12M_robust0_toodeep\")\n",
    "print(\"W51-E_B6_uid___A001_X1296_X215_continuum_merged_12M_robust0_toodeep\")\n",
    "show(imgs, vmin=-0.001, vmax=0.01)"
   ]
  },
  {
   "cell_type": "code",
   "execution_count": null,
   "metadata": {},
   "outputs": [],
   "source": [
    "imgs, cubes = load_images(\"W51-E_B6_uid___A001_X1296_X215_continuum_merged_12M_robust0_selfcal1\")\n",
    "print(\"W51-E_B6_uid___A001_X1296_X215_continuum_merged_12M_robust0_selfcal1\")\n",
    "show(imgs, vmin=-0.001, vmax=0.01)"
   ]
  },
  {
   "cell_type": "code",
   "execution_count": null,
   "metadata": {},
   "outputs": [],
   "source": [
    "imgs, cubes = load_images(\"W51-E_B6_uid___A001_X1296_X215_continuum_merged_7M12M_robust0_selfcal6\")\n",
    "print(\"W51-E_B6_uid___A001_X1296_X215_continuum_merged_7M12M_robust0_selfcal6\")\n",
    "show(imgs, vmin=-0.001, vmax=0.01)"
   ]
  },
  {
   "cell_type": "code",
   "execution_count": null,
   "metadata": {},
   "outputs": [],
   "source": [
    "imgs, cubes = load_images(\"W51-E_B6_uid___A001_X1296_X215_continuum_merged_7M12M_robust0\")\n",
    "print(\"W51-E_B6_uid___A001_X1296_X215_continuum_merged_7M12M_robust0\")\n",
    "show(imgs, vmin=-0.001, vmax=0.01)"
   ]
  },
  {
   "cell_type": "code",
   "execution_count": null,
   "metadata": {},
   "outputs": [],
   "source": [
    "imgs, cubes = load_images(\"W51-E_B6_uid___A001_X1296_X215_continuum_merged_7M12M_robust-2_bsens\")\n",
    "print(\"W51-E_B6_uid___A001_X1296_X215_continuum_merged_7M12M_robust-2_bsens\")\n",
    "show(imgs, vmin=-0.001, vmax=0.01)"
   ]
  },
  {
   "cell_type": "code",
   "execution_count": null,
   "metadata": {},
   "outputs": [],
   "source": [
    "imgs, cubes = load_images(\"W51-E_B6_uid___A001_X1296_X215_continuum_merged_7M12M_robust2_selfcal6\")\n",
    "print(\"W51-E_B6_uid___A001_X1296_X215_continuum_merged_7M12M_robust2_selfcal6\")\n",
    "show(imgs, vmin=-0.001, vmax=0.01)"
   ]
  },
  {
   "cell_type": "code",
   "execution_count": null,
   "metadata": {},
   "outputs": [],
   "source": [
    "imgs, cubes = load_images(\"W51-E_B6_uid___A001_X1296_X215_continuum_merged_7M12M_robust0_bsens\")\n",
    "print(\"W51-E_B6_uid___A001_X1296_X215_continuum_merged_7M12M_robust0_bsens\")\n",
    "show(imgs, vmin=-0.001, vmax=0.01)"
   ]
  },
  {
   "cell_type": "code",
   "execution_count": null,
   "metadata": {},
   "outputs": [],
   "source": [
    "imgs, cubes = load_images(\"W51-E_B6_uid___A001_X1296_X215_continuum_merged_7M12M_robust0_dirty\")\n",
    "print(\"W51-E_B6_uid___A001_X1296_X215_continuum_merged_7M12M_robust0_dirty\")\n",
    "show(imgs, vmin=-0.001, vmax=0.01)"
   ]
  },
  {
   "cell_type": "code",
   "execution_count": null,
   "metadata": {},
   "outputs": [],
   "source": [
    "imgs, cubes = load_images(\"W51-E_B6_uid___A001_X1296_X215_continuum_merged_7M12M_robust0_selfcal5\")\n",
    "print(\"W51-E_B6_uid___A001_X1296_X215_continuum_merged_7M12M_robust0_selfcal5\")\n",
    "show(imgs, vmin=-0.001, vmax=0.01)"
   ]
  },
  {
   "cell_type": "code",
   "execution_count": null,
   "metadata": {},
   "outputs": [],
   "source": [
    "imgs, cubes = load_images(\"W51-E_B6_uid___A001_X1296_X215_continuum_merged_12M_robust0_selfcal2\")\n",
    "print(\"W51-E_B6_uid___A001_X1296_X215_continuum_merged_12M_robust0_selfcal2\")\n",
    "show(imgs, vmin=-0.001, vmax=0.01)"
   ]
  },
  {
   "cell_type": "code",
   "execution_count": null,
   "metadata": {},
   "outputs": [],
   "source": [
    "imgs, cubes = load_images(\"W51-E_B6_uid___A001_X1296_X215_continuum_merged_7M12M_robust0_bsens_masked\")\n",
    "print(\"W51-E_B6_uid___A001_X1296_X215_continuum_merged_7M12M_robust0_bsens_masked\")\n",
    "show(imgs, vmin=-0.001, vmax=0.01)"
   ]
  },
  {
   "cell_type": "code",
   "execution_count": null,
   "metadata": {},
   "outputs": [],
   "source": [
    "imgs, cubes = load_images(\"W51-E_B6_uid___A001_X1296_X215_continuum_merged_12M_robust2_dirty\")\n",
    "print(\"W51-E_B6_uid___A001_X1296_X215_continuum_merged_12M_robust2_dirty\")\n",
    "show(imgs, vmin=-0.001, vmax=0.01)"
   ]
  },
  {
   "cell_type": "code",
   "execution_count": null,
   "metadata": {},
   "outputs": [],
   "source": [
    "imgs, cubes = load_images(\"W51-E_B6_uid___A001_X1296_X215_continuum_merged_7M12M_robust0_selfcal4\")\n",
    "print(\"W51-E_B6_uid___A001_X1296_X215_continuum_merged_7M12M_robust0_selfcal4\")\n",
    "show(imgs, vmin=-0.001, vmax=0.01)"
   ]
  },
  {
   "cell_type": "code",
   "execution_count": null,
   "metadata": {},
   "outputs": [],
   "source": [
    "imgs, cubes = load_images(\"W51-E_B6_uid___A001_X1296_X215_continuum_merged_12M_robust0_selfcal3\")\n",
    "print(\"W51-E_B6_uid___A001_X1296_X215_continuum_merged_12M_robust0_selfcal3\")\n",
    "show(imgs, vmin=-0.001, vmax=0.01)"
   ]
  },
  {
   "cell_type": "code",
   "execution_count": null,
   "metadata": {},
   "outputs": [],
   "source": [
    "imgs, cubes = load_images(\"W51-E_B6_uid___A001_X1296_X215_continuum_merged_7M12M_robust-2_selfcal6\")\n",
    "print(\"W51-E_B6_uid___A001_X1296_X215_continuum_merged_7M12M_robust-2_selfcal6\")\n",
    "show(imgs, vmin=-0.001, vmax=0.01)"
   ]
  },
  {
   "cell_type": "code",
   "execution_count": null,
   "metadata": {},
   "outputs": [],
   "source": [
    "imgs, cubes = load_images(\"W51-E_B6_uid___A001_X1296_X215_continuum_merged_12M_robust-2_cleanest\")\n",
    "print(\"W51-E_B6_uid___A001_X1296_X215_continuum_merged_12M_robust-2_cleanest\")\n",
    "show(imgs, vmin=-0.001, vmax=0.01)"
   ]
  },
  {
   "cell_type": "code",
   "execution_count": null,
   "metadata": {},
   "outputs": [],
   "source": [
    "imgs, cubes = load_images(\"W51-E_B6_uid___A001_X1296_X215_continuum_merged_12M_robust-2\")\n",
    "print(\"W51-E_B6_uid___A001_X1296_X215_continuum_merged_12M_robust-2\")\n",
    "show(imgs, vmin=-0.001, vmax=0.01)"
   ]
  },
  {
   "cell_type": "code",
   "execution_count": null,
   "metadata": {},
   "outputs": [],
   "source": [
    "imgs, cubes = load_images(\"W51-E_B6_uid___A001_X1296_X215_continuum_merged_7M12M_robust0_selfcal2\")\n",
    "print(\"W51-E_B6_uid___A001_X1296_X215_continuum_merged_7M12M_robust0_selfcal2\")\n",
    "show(imgs, vmin=-0.001, vmax=0.01)"
   ]
  },
  {
   "cell_type": "code",
   "execution_count": null,
   "metadata": {},
   "outputs": [],
   "source": [
    "imgs, cubes = load_images(\"W51-E_B6_uid___A001_X1296_X215_continuum_merged_7M12M_robust-2_bsens_masked\")\n",
    "print(\"W51-E_B6_uid___A001_X1296_X215_continuum_merged_7M12M_robust-2_bsens_masked\")\n",
    "show(imgs, vmin=-0.001, vmax=0.01)"
   ]
  },
  {
   "cell_type": "code",
   "execution_count": null,
   "metadata": {},
   "outputs": [],
   "source": [
    "imgs, cubes = load_images(\"W51-E_B6_uid___A001_X1296_X215_continuum_merged_12M_robust0_selfcal5\")\n",
    "print(\"W51-E_B6_uid___A001_X1296_X215_continuum_merged_12M_robust0_selfcal5\")\n",
    "show(imgs, vmin=-0.001, vmax=0.01)"
   ]
  },
  {
   "cell_type": "code",
   "execution_count": null,
   "metadata": {},
   "outputs": [],
   "source": [
    "imgs, cubes = load_images(\"W51-E_B6_uid___A001_X1296_X215_continuum_merged_7M12M_robust-2_cleanest\")\n",
    "print(\"W51-E_B6_uid___A001_X1296_X215_continuum_merged_7M12M_robust-2_cleanest\")\n",
    "show(imgs, vmin=-0.001, vmax=0.01)"
   ]
  },
  {
   "cell_type": "code",
   "execution_count": null,
   "metadata": {},
   "outputs": [],
   "source": [
    "imgs, cubes = load_images(\"W51-E_B6_uid___A001_X1296_X215_continuum_merged_12M_robust-2_selfcal6\")\n",
    "print(\"W51-E_B6_uid___A001_X1296_X215_continuum_merged_12M_robust-2_selfcal6\")\n",
    "show(imgs, vmin=-0.001, vmax=0.01)"
   ]
  },
  {
   "cell_type": "code",
   "execution_count": null,
   "metadata": {},
   "outputs": [],
   "source": [
    "imgs, cubes = load_images(\"W51-E_B6_uid___A001_X1296_X215_continuum_merged_12M_robust2\")\n",
    "print(\"W51-E_B6_uid___A001_X1296_X215_continuum_merged_12M_robust2\")\n",
    "show(imgs, vmin=-0.001, vmax=0.01)"
   ]
  },
  {
   "cell_type": "code",
   "execution_count": null,
   "metadata": {},
   "outputs": [],
   "source": [
    "imgs, cubes = load_images(\"W51-E_B6_uid___A001_X1296_X215_continuum_merged_7M12M_robust2_bsens\")\n",
    "print(\"W51-E_B6_uid___A001_X1296_X215_continuum_merged_7M12M_robust2_bsens\")\n",
    "show(imgs, vmin=-0.001, vmax=0.01)"
   ]
  },
  {
   "cell_type": "code",
   "execution_count": null,
   "metadata": {},
   "outputs": [],
   "source": [
    "imgs, cubes = load_images(\"W51-E_B6_uid___A001_X1296_X215_continuum_merged_7M12M_robust0_selfcal3\")\n",
    "print(\"W51-E_B6_uid___A001_X1296_X215_continuum_merged_7M12M_robust0_selfcal3\")\n",
    "show(imgs, vmin=-0.001, vmax=0.01)"
   ]
  },
  {
   "cell_type": "code",
   "execution_count": null,
   "metadata": {},
   "outputs": [],
   "source": [
    "imgs, cubes = load_images(\"W51-E_B6_uid___A001_X1296_X215_continuum_merged_12M_robust0_selfcal4\")\n",
    "print(\"W51-E_B6_uid___A001_X1296_X215_continuum_merged_12M_robust0_selfcal4\")\n",
    "show(imgs, vmin=-0.001, vmax=0.01)"
   ]
  },
  {
   "cell_type": "code",
   "execution_count": null,
   "metadata": {},
   "outputs": [],
   "source": [
    "imgs, cubes = load_images(\"W51-E_B6_uid___A001_X1296_X215_continuum_merged_7M12M_robust0_cleanest\")\n",
    "print(\"W51-E_B6_uid___A001_X1296_X215_continuum_merged_7M12M_robust0_cleanest\")\n",
    "show(imgs, vmin=-0.001, vmax=0.01)"
   ]
  },
  {
   "cell_type": "code",
   "execution_count": null,
   "metadata": {},
   "outputs": [],
   "source": [
    "imgs, cubes = load_images(\"W51-E_B6_uid___A001_X1296_X215_continuum_merged_7M12M_robust2_cleanest\")\n",
    "print(\"W51-E_B6_uid___A001_X1296_X215_continuum_merged_7M12M_robust2_cleanest\")\n",
    "show(imgs, vmin=-0.001, vmax=0.01)"
   ]
  },
  {
   "cell_type": "code",
   "execution_count": null,
   "metadata": {},
   "outputs": [],
   "source": [
    "imgs, cubes = load_images(\"W51-E_B6_uid___A001_X1296_X215_continuum_merged_12M_robust-2_dirty\")\n",
    "print(\"W51-E_B6_uid___A001_X1296_X215_continuum_merged_12M_robust-2_dirty\")\n",
    "show(imgs, vmin=-0.001, vmax=0.01)"
   ]
  },
  {
   "cell_type": "code",
   "execution_count": null,
   "metadata": {},
   "outputs": [],
   "source": [
    "imgs, cubes = load_images(\"W51-E_B6_uid___A001_X1296_X215_continuum_merged_12M_robust0_selfcal6\")\n",
    "print(\"W51-E_B6_uid___A001_X1296_X215_continuum_merged_12M_robust0_selfcal6\")\n",
    "show(imgs, vmin=-0.001, vmax=0.01)"
   ]
  },
  {
   "cell_type": "code",
   "execution_count": null,
   "metadata": {},
   "outputs": [],
   "source": [
    "imgs, cubes = load_images(\"W51-E_B6_uid___A001_X1296_X215_continuum_merged_7M12M_robust0_selfcal1\")\n",
    "print(\"W51-E_B6_uid___A001_X1296_X215_continuum_merged_7M12M_robust0_selfcal1\")\n",
    "show(imgs, vmin=-0.001, vmax=0.01)"
   ]
  },
  {
   "cell_type": "code",
   "execution_count": null,
   "metadata": {},
   "outputs": [],
   "source": [
    "imgs, cubes = load_images(\"W51-E_B6_uid___A001_X1296_X215_continuum_merged_12M_robust0_dirty\")\n",
    "print(\"W51-E_B6_uid___A001_X1296_X215_continuum_merged_12M_robust0_dirty\")\n",
    "show(imgs, vmin=-0.001, vmax=0.01)"
   ]
  },
  {
   "cell_type": "code",
   "execution_count": null,
   "metadata": {},
   "outputs": [],
   "source": [
    "imgs, cubes = load_images(\"W51-E_B6_uid___A001_X1296_X215_continuum_merged_12M_robust0\")\n",
    "print(\"W51-E_B6_uid___A001_X1296_X215_continuum_merged_12M_robust0\")\n",
    "show(imgs, vmin=-0.001, vmax=0.01)"
   ]
  },
  {
   "cell_type": "code",
   "execution_count": null,
   "metadata": {},
   "outputs": [],
   "source": [
    "imgs, cubes = load_images(\"W51-E_B6_uid___A001_X1296_X215_continuum_merged_12M_robust2_selfcal6\")\n",
    "print(\"W51-E_B6_uid___A001_X1296_X215_continuum_merged_12M_robust2_selfcal6\")\n",
    "show(imgs, vmin=-0.001, vmax=0.01)"
   ]
  }
 ],
 "metadata": {},
 "nbformat": 4,
 "nbformat_minor": 2
}
